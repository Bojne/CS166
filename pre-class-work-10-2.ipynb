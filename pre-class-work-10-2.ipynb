{
  "nbformat": 4,
  "nbformat_minor": 0,
  "metadata": {
    "kernelspec": {
      "display_name": "Python 3",
      "language": "python",
      "name": "python3"
    },
    "language_info": {
      "codemirror_mode": {
        "name": "ipython",
        "version": 3
      },
      "file_extension": ".py",
      "mimetype": "text/x-python",
      "name": "python",
      "nbconvert_exporter": "python",
      "pygments_lexer": "ipython3",
      "version": "3.7.4"
    },
    "colab": {
      "name": "pre-class-work-10-2.ipynb",
      "provenance": []
    }
  },
  "cells": [
    {
      "cell_type": "markdown",
      "metadata": {
        "id": "JeNgRWJNo-Gq"
      },
      "source": [
        "- Sayama Exercise 16.2. Revise the code above so that you can measure how many\n",
        "steps it will take until the system reaches a consensus (i.e., homogenized state). Then\n",
        "run multiple simulations (Monte Carlo simulations) to calculate the average time length\n",
        "needed for consensus formation in the original voter model.\n",
        "- Sayama Exercise 16.3. Revise the code further to implement (1) the reversed and (2)\n",
        "the edge-based voter models. Then conduct Monte Carlo simulations to measure the\n",
        "average time length needed for consensus formation in each case. Compare the results\n",
        "between the three versions.\n",
        "\n",
        "\n",
        "Generate histograms of results for the three models above and compute the average time until\n",
        "consensus for each model. Be sure to explicitly comment on and compare the results from the\n",
        "three models."
      ]
    },
    {
      "cell_type": "code",
      "metadata": {
        "id": "ziCXE5gVo-Gr"
      },
      "source": [
        "import matplotlib \n",
        "from matplotlib import pyplot as plt \n",
        "import numpy as np\n",
        "from pylab import *\n",
        "import networkx as nx\n",
        "import random as rd\n",
        "\n",
        "seed = 2\n",
        "\n",
        "class Voter:\n",
        "    def __init__(self):\n",
        "        self.g = nx.karate_club_graph()\n",
        "        self.g.pos = nx.spring_layout(self.g)\n",
        "        for i in self.g.nodes:\n",
        "            self.g.nodes[i]['state'] = 1 if random(seed) < .5 else 0\n",
        "\n",
        "    def observe(self):\n",
        "        cla()\n",
        "        nx.draw(self.g, vmin = 0, vmax = 1,\n",
        "                node_color = [self.g.nodes[i]['state'] for i in self.g.nodes],\n",
        "                pos = self.g.pos)\n",
        "        \n",
        "    def update_edge(self):\n",
        "        \"shuffle and update\"\n",
        "        edge = list(rd.choice(list(self.g.edges)))\n",
        "        rd.shuffle(edge)\n",
        "        speaker, listener = edge[0], edge[1]\n",
        "        self.g.nodes[listener]['state'] = self.g.nodes[speaker]['state']\n",
        "        \n",
        "    def update_reverse(self):\n",
        "        speaker = rd.choice(list(self.g.nodes))\n",
        "        listener = rd.choice(list(self.g.neighbors(speaker)))\n",
        "        self.g.nodes[listener]['state'] = self.g.nodes[speaker]['state']\n",
        "        \n",
        "    def update_org(self):\n",
        "        listener = rd.choice(list(self.g.nodes))\n",
        "        speaker = rd.choice(list(self.g.neighbors(listener)))\n",
        "        self.g.nodes[listener]['state'] = self.g.nodes[speaker]['state']\n",
        "\n",
        "def sim(voter):\n",
        "    states = [voter.g.nodes[i]['state'] for i in range(len(list(voter.g.nodes)))]\n",
        "    if sum(states) == len(list(voter.g.nodes)) or sum(states) == 0:\n",
        "        return False\n",
        "    else: return True\n",
        "    \n",
        "def trial(version='org'):\n",
        "    voter = Voter()\n",
        "    check = sim(voter)\n",
        "    step = 0\n",
        "    if version == \"org\":\n",
        "        while check:\n",
        "            voter.update_org()\n",
        "            check = sim(voter)\n",
        "            step += 1\n",
        "        return step\n",
        "    elif version == \"reverse\":\n",
        "        while check:\n",
        "            voter.update_reverse()\n",
        "            check = sim(voter)\n",
        "            step += 1\n",
        "        return step\n",
        "    else:\n",
        "        while check:\n",
        "            voter.update_edge()\n",
        "            check = sim(voter)\n",
        "            step += 1\n",
        "        return step       \n",
        "    \n",
        "        \n",
        "def MonteCarlo(trials, version = \"org\"):\n",
        "    step_ls = []\n",
        "    for i in range(trials):\n",
        "        step_ls.append(trial(version))\n",
        "    return step_ls"
      ],
      "execution_count": 14,
      "outputs": []
    },
    {
      "cell_type": "code",
      "metadata": {
        "id": "zrGee1Tco-Gu"
      },
      "source": [
        "nT = 800\n",
        "step_org = MonteCarlo(nT, \"org\")\n",
        "step_reverse = MonteCarlo(nT, \"reverse\")\n",
        "step_edge = MonteCarlo(nT, \"edge\")"
      ],
      "execution_count": 15,
      "outputs": []
    },
    {
      "cell_type": "code",
      "metadata": {
        "colab": {
          "base_uri": "https://localhost:8080/",
          "height": 225
        },
        "id": "sEc10k6lo-Gu",
        "outputId": "e5e71f49-d01a-4a4e-a78e-118352d4fc34"
      },
      "source": [
        "fig, ax = plt.subplots(1,3, figsize=(12,3))\n",
        "plt.style.use('seaborn-pastel')\n",
        "names = [\"org\",\"reverse\",\"edge\"]\n",
        "hist = [step_org, step_reverse, step_edge]\n",
        "\n",
        "for i in range(len(names)):\n",
        "    ax[i].hist(hist[i], bins = 30, density = True )\n",
        "    ax[i].axvline(sum(hist[i])/len(hist[i]), color = \"red\", label = f\"Mean = {sum(hist[i])/len(hist[i]):.2f}\")\n",
        "    ax[i].set_xlabel(\"Steps\")\n",
        "    ax[i].set_ylabel(\"Probability\")\n",
        "    ax[i].legend()\n",
        "    ax[i].set_title(f\"Histogram for {names[i]} mode\")\n",
        "fig.tight_layout()"
      ],
      "execution_count": 27,
      "outputs": [
        {
          "output_type": "display_data",
          "data": {
            "image/png": "[encoded data removed]",
            "text/plain": [
              "<Figure size 864x216 with 3 Axes>"
            ]
          },
          "metadata": {
            "tags": [],
            "needs_background": "light"
          }
        }
      ]
    },
    {
      "cell_type": "markdown",
      "metadata": {
        "id": "zc1JJY1f8iRK"
      },
      "source": [
        "\n",
        "\n",
        "### Takeaways: \n",
        "1. The simulation shows for `org`, `reverse` and `edge` mode, the average number of steps varies, while the shape of distribution looks similar. \n",
        "  - For the original model (org), the avg step is 600 because we tend to select well-connected speakers, thus in terms of opinion spread, this model work very effectively.\n",
        "  - For the edge model, the avg step is 1050. An interpretation for this is that we're choosing the edge as oppose to node, so compare to original model it's more likely to choose relatively less connected nodes. (One edge connects to two nodes with one node being less connected). \n",
        "  - For the reverse model, since its equal chance to pick any node, we are even more likely to pick less-connected nodes, slowing down the numbers of steps for the vote to spread arcoss the network.  "
      ]
    }
  ]
}