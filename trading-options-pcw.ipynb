{
 "cells": [
  {
   "cell_type": "markdown",
   "metadata": {},
   "source": [
    "# Trading options and gaining or losing money\n",
    "\n",
    "You start with ¥ 10,000 and can buy as many of the following call options as you want.\n",
    "\n",
    "* Cost of 1 call option: ¥ 100\n",
    "* Strike price: ¥ 10,500\n",
    "* According to your pricing model, the underlying stock will have a price at the option expiry date distributed according to Normal(¥ 10,500, (¥ 300)²). So, the strike price and the expected value of the stock price are the same.\n",
    "\n",
    "Work through the tasks below to determine a good trading strategy for maximizing your gains and limiting your losses while trading these options.\n",
    "\n",
    "## Getting started\n",
    "\n",
    "Run the code cell below and understand how the output is computed. The output shows the (random) result of buying one call option and waiting until the option expiry date."
   ]
  },
  {
   "cell_type": "code",
   "execution_count": 7,
   "metadata": {},
   "outputs": [],
   "source": [
    "import numpy as np\n",
    "import matplotlib.pyplot as plt\n",
    "\n",
    "def calculate_money_at_option_expiry(\n",
    "    money_at_start, options_purchased, price_per_option=100,\n",
    "    strike_price=10500, expiry_price_mean=10500, expiry_price_stdev=300):\n",
    "\n",
    "    '''\n",
    "    Calculate how much money you have after buying some number of call\n",
    "    options with a strike price of `strike_price`, and waiting for them to\n",
    "    expire. The value of the underlying stock at expiry is a sample from a\n",
    "    normal distribution with mean `expiry_mean_price` and standard\n",
    "    deviation `expiry_price_stdev`.\n",
    "\n",
    "    Arguments:\n",
    "\n",
    "        money_at_start (float) How much money you have before buying the\n",
    "          options.\n",
    "\n",
    "        options_purchased (int) How many options you purchase.\n",
    "\n",
    "        price_per_option (float) The price of 1 option.\n",
    "\n",
    "        strike_price (float) The strike price of the option.\n",
    "\n",
    "        expiry_price_mean (float) The mean of the normal distribution of\n",
    "          the stock price at expiry.\n",
    "\n",
    "        expiry_price_stdev (float) The standard deviation of the normal\n",
    "          distribution of the stock price at expiry.\n",
    "\n",
    "    All arguments can also be NumPy arrays instead of scalars.\n",
    "\n",
    "    Returns: (float or array) the amount of money you have left after the\n",
    "      options expired, based on the random sample(s) from the final stock\n",
    "      price distribution.\n",
    "    '''\n",
    "    stock_price = np.random.normal(\n",
    "        expiry_price_mean, expiry_price_stdev,\n",
    "        size=np.shape(money_at_start))\n",
    "    option_value_at_expiry = np.maximum(0, stock_price - strike_price)\n",
    "    money_at_end = (\n",
    "        money_at_start\n",
    "        - options_purchased * price_per_option\n",
    "        + options_purchased * option_value_at_expiry)\n",
    "    return money_at_end"
   ]
  },
  {
   "cell_type": "code",
   "execution_count": 8,
   "metadata": {},
   "outputs": [
    {
     "name": "stdout",
     "output_type": "stream",
     "text": [
      "We started with ¥ 10000.00\n",
      "We bought 1 option(s)\n",
      "We ended up with ¥ 9900.00\n"
     ]
    }
   ],
   "source": [
    "# Buy 1 option and see what happens. You can run this cell a few times to\n",
    "# see different random outcomes.\n",
    "\n",
    "money_at_start = 10000\n",
    "price_per_option = 100\n",
    "options = 1\n",
    "\n",
    "money_at_end = calculate_money_at_option_expiry(\n",
    "    money_at_start, options, price_per_option)\n",
    "\n",
    "print(f'We started with ¥ {money_at_start:.2f}')\n",
    "print(f'We bought {options} option(s)')\n",
    "print(f'We ended up with ¥ {money_at_end:.2f}')"
   ]
  },
  {
   "cell_type": "markdown",
   "metadata": {},
   "source": [
    "## Task 1\n",
    "\n",
    "Use the function above to simulate buying 1 option 100,000 times and\n",
    "plot a histogram of the results using 100 histogram bins. This histogram\n",
    "will show the distribution over how much money you might have left\n",
    "when starting with ¥ 10,000 and buying 1 option. Also, use your results\n",
    "to compute the average, 25th, 50th, and 75th percentiles, and risk of\n",
    "loss for this trade. (The risk of ruin is 0 since it's impossible to lose\n",
    "all your money when buying only 1 option.)\n",
    "\n",
    "1. Plot a histogram.\n",
    "2. Compute the average amount of money you end up with and plot it on the histogram.\n",
    "3. Compute the 25th, 50th, and 75th percentiles and plot them on the histogram.\n",
    "4. Compute the risk of loss."
   ]
  },
  {
   "cell_type": "code",
   "execution_count": 11,
   "metadata": {},
   "outputs": [
    {
     "name": "stdout",
     "output_type": "stream",
     "text": [
      "Risk of Loss = 63.30%\n"
     ]
    },
    {
     "data": {
      "image/png": "[encoded data removed]",
      "text/plain": [
       "<Figure size 432x288 with 1 Axes>"
      ]
     },
     "metadata": {
      "needs_background": "light"
     },
     "output_type": "display_data"
    }
   ],
   "source": [
    "# Run the simple simulation above 100,000 times and record results\n",
    "#'''\n",
    "result1 = []\n",
    "for _ in range(100000):\n",
    "    result1.append(calculate_money_at_option_expiry(\n",
    "    money_at_start, options, price_per_option))\n",
    "#'''\n",
    "# Plot a histogram of the results and print out the metrics\n",
    "plt.hist(result1, bins = 100)\n",
    "plt.axvline(np.mean(result1), color = 'r', label = f\"mean = {np.mean(result1):.2f}\")\n",
    "plt.axvline(np.median(result1), color = 'b', label = f\"median = {np.median(result1):.2f}\")\n",
    "plt.axvline(np.percentile(result1,25), color = 'b', linestyle= \"--\",label = f\"25% = {np.percentile(result1,25):.2f}\")\n",
    "plt.axvline(np.percentile(result1,75), color = 'b',  linestyle= \"--\",label = f\"75% = {np.percentile(result1,75):.2f}\")\n",
    "\n",
    "count = 0\n",
    "for res in result1:\n",
    "    if res < 10000:\n",
    "        count += 1\n",
    "        \n",
    "risk_of_loss = count/len(result1)\n",
    "print(f'Risk of Loss = {risk_of_loss*100:.2f}%')\n",
    "\n",
    "plt.legend()\n",
    "plt.show()"
   ]
  },
  {
   "cell_type": "markdown",
   "metadata": {},
   "source": [
    "## Task 2\n",
    "\n",
    "You now get to play the game of risking some money on buying options repeatedly. To start with, assume you buy 1 option (as in Task 1) but you do it 20 times in sequence.\n",
    "\n",
    "1. Buy 1 option and let it expire. You will now have a little more or less money than you started with.\n",
    "2. Buy another option and let it expire.\n",
    "3. You can make at most 20 such trades. If you have less than ¥ 100 (the price of 1 option) left, you lost all your money and cannot make any more trades.\n",
    "\n",
    "Reuse and update your code from Task 1 to simulate this scenario. Plot the resulting histogram and compute the same metrics as in Task 1.\n",
    "\n",
    "### Questions\n",
    "\n",
    "1. Are we making money or losing money, on average?\n",
    "2. What is the minimum amount of money we can end up with? Explain why."
   ]
  },
  {
   "cell_type": "code",
   "execution_count": 15,
   "metadata": {},
   "outputs": [
    {
     "name": "stdout",
     "output_type": "stream",
     "text": [
      "Risk of Loss = 32.65%\n"
     ]
    },
    {
     "data": {
      "image/png": "[encoded data removed]",
      "text/plain": [
       "<Figure size 432x288 with 1 Axes>"
      ]
     },
     "metadata": {
      "needs_background": "light"
     },
     "output_type": "display_data"
    }
   ],
   "source": [
    "# Compute the money left after 20 trades of 1 option for 100,000 trials\n",
    "\n",
    "result2 = []\n",
    "for _ in range(100000): # num of trials \n",
    "    money_at_start = 10000\n",
    "    for trade in range(20):\n",
    "        new_money = calculate_money_at_option_expiry(money_at_start, options, price_per_option)\n",
    "        if new_money < 100:\n",
    "            break\n",
    "        money_at_start = new_money    \n",
    "    result2.append(money_at_start)\n",
    "result2 = np.array(result2)\n",
    "# Plot a histogram of the results and print out the metrics\n",
    "plt.hist(result2, bins = 100)\n",
    "plt.axvline(np.mean(result2), color = 'r', label = f\"mean = {np.mean(result2):.2f}\")\n",
    "plt.axvline(np.median(result2), color = 'b', label = f\"median = {np.median(result2):.2f}\")\n",
    "plt.axvline(np.percentile(result2,25), color = 'b', linestyle= \"--\",label = f\"25% = {np.percentile(result2,25):.2f}\")\n",
    "plt.axvline(np.percentile(result2,75), color = 'b',  linestyle= \"--\",label = f\"75% = {np.percentile(result2,75):.2f}\")\n",
    "\n",
    "count = (result2 < 10000).sum()\n",
    "        \n",
    "risk_of_loss = count/len(result2)\n",
    "print(f'Risk of Loss = {risk_of_loss*100:.2f}%')\n",
    "\n",
    "plt.legend()\n",
    "plt.show()\n"
   ]
  },
  {
   "cell_type": "markdown",
   "metadata": {},
   "source": [
    "## Task 3\n",
    "\n",
    "Modify the code in Task 2 such that, rather than buying only 1 option in each of the 20 trades, you risk 30% of your money on every trade. So, for example, if you have ¥ 5,000 left, you would risk ¥ 1,500 and buy 15 options at ¥ 100 per option. You should round the number of options to the nearest integer.\n",
    "\n",
    "1. Use 30% of your remaining money to buy options let them expire. You will now have more or less money than you started with.\n",
    "3. You can make at most 20 such trades. If you have less than ¥ 100 (the price of 1 option) left, you lost all your money and cannot make any more trades.\n",
    "\n",
    "Reuse and update your code from Task 2 to simulate this scenario. Plot the resulting histogram and compute the same metrics as in Task 1. You should now add the _risk of ruin_ metric since you might run out of money.\n",
    "\n",
    "### Questions\n",
    "\n",
    "1. Are we making money or losing money, on average?\n",
    "2. Should we risk more or less than 30% of our money on each trade?"
   ]
  },
  {
   "cell_type": "code",
   "execution_count": 13,
   "metadata": {},
   "outputs": [
    {
     "name": "stdout",
     "output_type": "stream",
     "text": [
      "Risk of Loss = 66.74%\n",
      "Risk of Ruin = 0.00%\n"
     ]
    },
    {
     "data": {
      "image/png": "[encoded data removed]",
      "text/plain": [
       "<Figure size 432x288 with 1 Axes>"
      ]
     },
     "metadata": {
      "needs_background": "light"
     },
     "output_type": "display_data"
    }
   ],
   "source": [
    "# Compute the money left after 20 trades with 30% risked per trade for\n",
    "# 100,000 trials\n",
    "\n",
    "result3 = []\n",
    "for _ in range(100000):\n",
    "    money_at_start = 10000\n",
    "    for trade in range(20):\n",
    "        risk = money_at_start*0.3\n",
    "        remain = money_at_start - risk\n",
    "        options = round(risk/price_per_option)\n",
    "        new_money = calculate_money_at_option_expiry(money_at_start, options, price_per_option)\n",
    "        if new_money < 100:\n",
    "            break\n",
    "        money_at_start = new_money    \n",
    "    result3.append(money_at_start)\n",
    "\n",
    "# Plot a histogram of the results and print out the metrics\n",
    "plt.hist(result3, bins = 100)\n",
    "plt.axvline(np.mean(result3), color = 'r', label = f\"mean = {np.mean(result3):.2f}\")\n",
    "plt.axvline(np.median(result3), color = 'b', label = f\"median = {np.median(result3):.2f}\")\n",
    "plt.axvline(np.percentile(result3,25), color = 'b', linestyle= \"--\",label = f\"25% = {np.percentile(result3,25):.2f}\")\n",
    "plt.axvline(np.percentile(result3,75), color = 'b',  linestyle= \"--\",label = f\"75% = {np.percentile(result3,75):.2f}\")\n",
    "\n",
    "count = 0\n",
    "count_ruin = 0\n",
    "for res in result3:\n",
    "    if res < 10000:\n",
    "        count += 1\n",
    "    if res < 100:\n",
    "        count_ruin += 1\n",
    "        \n",
    "risk_of_loss = count/len(result3)\n",
    "risk_of_ruin = count_ruin/len(result3)\n",
    "print(f'Risk of Loss = {risk_of_loss*100:.2f}%')\n",
    "print(f'Risk of Ruin = {risk_of_ruin*100:.2f}%')\n",
    "\n",
    "\n",
    "plt.legend()\n",
    "plt.show()"
   ]
  },
  {
   "cell_type": "markdown",
   "metadata": {},
   "source": [
    "## Task 4 (optional)\n",
    "\n",
    "Determine the optimal fraction of your money to risk on each trade. It's not 30%. Which metric(s) should you use for this optimization?"
   ]
  },
  {
   "cell_type": "code",
   "execution_count": null,
   "metadata": {},
   "outputs": [],
   "source": []
  },
  {
   "cell_type": "code",
   "execution_count": null,
   "metadata": {},
   "outputs": [],
   "source": []
  }
 ],
 "metadata": {
  "kernelspec": {
   "display_name": "Python 3",
   "language": "python",
   "name": "python3"
  },
  "language_info": {
   "codemirror_mode": {
    "name": "ipython",
    "version": 3
   },
   "file_extension": ".py",
   "mimetype": "text/x-python",
   "name": "python",
   "nbconvert_exporter": "python",
   "pygments_lexer": "ipython3",
   "version": "3.7.4"
  }
 },
 "nbformat": 4,
 "nbformat_minor": 4
}
