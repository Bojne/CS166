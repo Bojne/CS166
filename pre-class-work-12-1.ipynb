{
 "cells": [
  {
   "cell_type": "code",
   "execution_count": 2,
   "id": "empirical-cancellation",
   "metadata": {},
   "outputs": [],
   "source": [
    "from scipy.optimize import root\n",
    "import numpy as np\n",
    "import matplotlib.pyplot as plt"
   ]
  },
  {
   "cell_type": "code",
   "execution_count": 3,
   "id": "accomplished-philip",
   "metadata": {},
   "outputs": [],
   "source": [
    "def calculate_q(k):\n",
    "    '''\n",
    "    q = exp(k*(q-1)), and we use the root function to find the root \n",
    "    '''\n",
    "    return root(lambda q: q - np.exp(k * (q - 1)), 0).x[0]"
   ]
  },
  {
   "cell_type": "code",
   "execution_count": 10,
   "id": "pressed-farming",
   "metadata": {},
   "outputs": [],
   "source": [
    "# Calculate prob of not being in the LCC given a degreeness of k \n",
    "qs = []\n",
    "all_k = np.linspace(1,10,20)\n",
    "for k in all_k:\n",
    "    qs.append(1-calculate_q(k))"
   ]
  },
  {
   "cell_type": "code",
   "execution_count": 11,
   "id": "understanding-pittsburgh",
   "metadata": {},
   "outputs": [
    {
     "data": {
      "image/png": "[encoded data removed]",
      "text/plain": [
       "<Figure size 576x432 with 1 Axes>"
      ]
     },
     "metadata": {
      "needs_background": "light"
     },
     "output_type": "display_data"
    }
   ],
   "source": [
    "\n",
    "# Plot theoretical results\n",
    "plt.figure(figsize=(8, 6))\n",
    "plt.plot(all_k, qs, 'k.')\n",
    "plt.xlabel('average degree')\n",
    "plt.ylabel('size of LCC')\n",
    "plt.title('Theoretical LCC size vs average degree')\n",
    "plt.show()"
   ]
  }
 ],
 "metadata": {
  "kernelspec": {
   "display_name": "Python 3",
   "language": "python",
   "name": "python3"
  },
  "language_info": {
   "codemirror_mode": {
    "name": "ipython",
    "version": 3
   },
   "file_extension": ".py",
   "mimetype": "text/x-python",
   "name": "python",
   "nbconvert_exporter": "python",
   "pygments_lexer": "ipython3",
   "version": "3.7.4"
  }
 },
 "nbformat": 4,
 "nbformat_minor": 5
}
